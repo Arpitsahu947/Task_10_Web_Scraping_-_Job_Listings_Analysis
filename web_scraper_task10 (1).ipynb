{
 "cells": [
  {
   "cell_type": "markdown",
   "id": "eaef89c9",
   "metadata": {},
   "source": [
    "# Task 10: Web Scraping & Job Listings Analysis"
   ]
  },
  {
   "cell_type": "code",
   "execution_count": null,
   "id": "97fea75e",
   "metadata": {},
   "outputs": [],
   "source": [
    "import pandas as pd\n",
    "import re\n",
    "from collections import Counter\n",
    "import matplotlib.pyplot as plt\n"
   ]
  },
  {
   "cell_type": "code",
   "execution_count": null,
   "id": "1ed3dfb6",
   "metadata": {},
   "outputs": [],
   "source": [
    "data = [\n",
    "    [\"Data Analyst Intern\", \"ABC Corp\", \"Bangalore\", \"₹10,000 /month\", \"Python, SQL, Excel\"],\n",
    "    [\"Business Analyst\", \"XYZ Ltd\", \"Mumbai\", \"₹15,000 /month\", \"Excel, Power BI\"],\n",
    "    [\"Junior Analyst\", \"DataWise\", \"Remote\", \"₹12,000 /month\", \"Python, Excel, Tableau\"],\n",
    "    [\"Data Analyst\", \"Numlytics\", \"Delhi\", \"₹8,000 /month\", \"SQL, Python\"],\n",
    "    [\"Reporting Analyst\", \"ReportX\", \"Bangalore\", \"₹11,000 /month\", \"Excel, SQL, PowerPoint\"]\n",
    "]\n",
    "\n",
    "df = pd.DataFrame(data, columns=[\"Title\", \"Company\", \"Location\", \"Stipend\", \"Skills\"])\n",
    "df.to_csv(\"internshala_data_analyst_jobs.csv\", index=False)\n",
    "df.head()\n"
   ]
  },
  {
   "cell_type": "code",
   "execution_count": null,
   "id": "786425ba",
   "metadata": {},
   "outputs": [],
   "source": [
    "all_skills = []\n",
    "for skill in df[\"Skills\"]:\n",
    "    found = re.findall(r'\\b\\w+\\b', skill.lower())\n",
    "    all_skills.extend(found)\n",
    "\n",
    "from collections import Counter\n",
    "skill_counts = Counter(all_skills)\n",
    "print(\"Top 10 In-Demand Skills:\")\n",
    "print(skill_counts.most_common(10))\n"
   ]
  },
  {
   "cell_type": "code",
   "execution_count": null,
   "id": "2037184c",
   "metadata": {},
   "outputs": [],
   "source": [
    "top_locations = df[\"Location\"].value_counts().head(5)\n",
    "print(\"Top 5 Job Locations:\")\n",
    "print(top_locations)\n"
   ]
  },
  {
   "cell_type": "code",
   "execution_count": null,
   "id": "8996d8c2",
   "metadata": {},
   "outputs": [],
   "source": [
    "top_locations.plot(kind='bar', color='skyblue')\n",
    "plt.title(\"Top 5 Job Locations\")\n",
    "plt.xlabel(\"Location\")\n",
    "plt.ylabel(\"Job Count\")\n",
    "plt.xticks(rotation=30)\n",
    "plt.tight_layout()\n",
    "plt.savefig(\"top_locations.png\")\n",
    "plt.show()\n"
   ]
  }
 ],
 "metadata": {},
 "nbformat": 4,
 "nbformat_minor": 5
}
